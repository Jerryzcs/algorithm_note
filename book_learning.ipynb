{
 "cells": [
  {
   "cell_type": "markdown",
   "metadata": {
    "collapsed": true
   },
   "source": [
    "# 《Problem Solving with Algorithms and Data Structures using Python》 的学习笔记和课后作业\n",
    "\n",
    "## 目录\n",
    "\n",
    "* [0.简介](#0.简介)\n",
    "* [1.intro](#1.intro)\n",
    "* [2.Analysis](#2.Analysis)\n",
    "* [3. Basic Data Structures](#3.-Basic-Data-Structures)\n",
    "\n",
    "## 0.简介\n",
    "\n",
    "![](https://img3.doubanio.com/lpic/s22712854.jpg)\n",
    "\n",
    "这本书的[豆瓣评分](https://book.douban.com/subject/3098386/)高达9.3，python作为接近算法伪码的一种脚本语言，其实用它写算法是极好的，可以将注意力集中在算法本身。\n",
    "\n",
    "但是由于python性能的问题，用python写算法不算太主流，因此市面上介绍算法的书也多以使用c/c++或者Java居多。\n",
    "\n",
    "这本书几乎是用python介绍算法豆瓣评分最高的一本书了，网上可以下到pdf，但最好的阅读方式是直接使用这本书的[网站](http://interactivepython.org/courselib/static/pythonds/index.html)。这本书貌似也是拿ipython notebook写的，还可以直接在网站上运行示例程序。self check的部分还有作者视频讲解，这才是编程类书籍的未来嘛！\n",
    "\n",
    "这里我记录每章的学习笔记，同时记录每章课后作业的个人解决代码，统一使用python3。\n"
   ]
  },
  {
   "cell_type": "markdown",
   "metadata": {},
   "source": [
    "## 1.intro\n",
    "\n",
    "### 笔记 \n",
    "\n",
    "这章主要给python做了个简短介绍，魔术方法部分以前没有仔细学习过，看看感觉挺好用，可以让自定义的方法看起来像内建的方法。\n",
    "\n",
    "[python 官方文档关于operator的表格](https://docs.python.org/2/library/operator.html)\n",
    "\n",
    "|Operation\t|Syntax\t|Function|\n",
    "| ------------- |:-------------:| -----:|\n",
    "|Addition\t|a + b\t|add(a, b)|\n",
    "|Concatenation\t|seq1 + seq2|\tconcat(seq1, seq2)|\n",
    "|Containment Test\t|obj in seq|\tcontains(seq, obj)|\n",
    "|Division\t|a / b|\tdiv(a, b) (without \\_\\_future\\_\\_.division)|\n",
    "|Division\t|a / b|\ttruediv(a, b) (with \\_\\_future\\_\\_.division)|\n",
    "|Division\t|a // b|\tfloordiv(a, b)|\n",
    "|Bitwise And\t|a & b|\tand\\_(a, b)|\n",
    "|Bitwise Exclusive Or\t|a ^ b|\txor(a, b)|\n",
    "|Bitwise Inversion\t|~ a|\tinvert(a)|\n",
    "|Bitwise Or\t|a $|$ b|\tor\\_(a, b)|\n",
    "|Exponentiation\t|a \\*\\* b|\tpow(a, b)|\n",
    "|Identity\t|a is b|\tis\\_(a, b)|\n",
    "|Identity\t|a is not b|\tis\\_not(a, b)|\n",
    "|Indexed Assignment\t|obj[k] = v\t|setitem(obj, k, v)|\n",
    "|Indexed Deletion\t|del obj[k]\t|delitem(obj, k)|\n",
    "|Indexing\t|obj[k]|\tgetitem(obj, k)|\n",
    "|Left Shift\t|a << b\t|lshift(a, b)|\n",
    "|Modulo\t|a % b|\tmod(a, b)|\n",
    "|Multiplication|\ta \\* b|\tmul(a, b)|\n",
    "|Negation (Arithmetic)|\t- a\t|neg(a)|\n",
    "|Negation (Logical)|\tnot a\t|not\\_(a)|\n",
    "|Positive|\t+ a\t|pos(a)|\n",
    "|Right Shift|\ta >> b\t|rshift(a, b)|\n",
    "|Sequence Repetition\t|seq * i\t|repeat(seq, i)|\n",
    "|Slice Assignment\t|seq[i:j] = values|\tsetitem(seq, slice(i, j), values)|\n",
    "|Slice Deletion\t|del seq[i:j]\t|delitem(seq, slice(i, j))|\n",
    "|Slicing\t|seq[i:j]|\tgetitem(seq, slice(i, j))|\n",
    "|String Formatting\t|s % obj|\tmod(s, obj)|\n",
    "|Subtraction\t|a - b|\tsub(a, b)|\n",
    "|Truth Test\t|obj\t|truth(obj)|\n",
    "|Ordering\t|a < b\t|lt(a, b)|\n",
    "|Ordering\t|a <= b\t|le(a, b)|\n",
    "|Equality\t|a == b\t|eq(a, b)|\n",
    "|Difference\t|a != b\t|ne(a, b)|\n",
    "|Ordering\t|a >= b\t|ge(a, b)|\n",
    "|Ordering\t|a > b\t|gt(a, b)|\n",
    "\n",
    "两个不错的学习链接：\n",
    "\n",
    "- [PYTHON-进阶-魔术方法小结(方法运算符重载)](http://wklken.me/posts/2012/10/29/python-base-magic.html)\n",
    "\n",
    "- [Python 魔术方法指南](http://pycoders-weekly-chinese.readthedocs.io/en/latest/issue6/a-guide-to-pythons-magic-methods.html)\n",
    "\n",
    "### 作业\n",
    "\n",
    "[作业链接](http://interactivepython.org/courselib/static/pythonds/Introduction/ProgrammingExercises.html)\n",
    "\n",
    "暂时完成q1～q9"
   ]
  },
  {
   "cell_type": "code",
   "execution_count": 37,
   "metadata": {
    "collapsed": true
   },
   "outputs": [],
   "source": [
    "def gcd(m,n):\n",
    "    \"\"\"求两个数最大公因数\"\"\"\n",
    "    while m%n != 0:\n",
    "        oldm = m\n",
    "        oldn = n\n",
    "\n",
    "        m = oldn\n",
    "        n = oldm%oldn\n",
    "    return n\n",
    "\n",
    "class Fraction:\n",
    "    \"\"\"处理分数的类\"\"\"\n",
    "    def __init__(self,top,bottom):\n",
    "        # q5 检查分子分母是否都是整数\n",
    "        if not isinstance(top, int) or not isinstance(bottom, int):\n",
    "            raise Exception(\"top or bottom of Fraction is not int type!\")\n",
    "        # q2 初始化时直接约分\n",
    "        common = gcd(top,bottom)\n",
    "        self.num = top//common\n",
    "        self.den = bottom//common\n",
    "        \n",
    "\n",
    "    def __str__(self):\n",
    "        return str(self.num)+\"/\"+str(self.den)\n",
    "\n",
    "    def show(self):\n",
    "        print(self.num,\"/\",self.den)\n",
    "\n",
    "    def __add__(self,other):\n",
    "        # q2\n",
    "        newnum = self.num*other.den + \\\n",
    "                 self.den*other.num\n",
    "        newden = self.den * other.den\n",
    "        return Fraction(newnum,newden)\n",
    "\n",
    "    def __eq__(self, other):\n",
    "        firstnum = self.num * other.den\n",
    "        secondnum = other.num * self.den\n",
    "\n",
    "        return firstnum == secondnum\n",
    "    \n",
    "    # q1\n",
    "    def getNum(self):\n",
    "        return self.num\n",
    "    \n",
    "    def getDen(self):\n",
    "        return self.den\n",
    "    \n",
    "    # q3\n",
    "    def __sub__(self, other):\n",
    "        newnum = self.num*other.den - \\\n",
    "                 other.num*self.den\n",
    "        newden = self.den * other.den\n",
    "        return Fraction(newnum, newden)\n",
    "    \n",
    "    def __mul__(self, other):\n",
    "        return Fraction(self.num*other.num, self.den*other.den)\n",
    "    \n",
    "    def __truediv__(self, other):\n",
    "        return Fraction(self.num*other.den, self.den*other.num)\n",
    "    \n",
    "    # q4\n",
    "    def __gt__(self, other): \n",
    "        if self.num*other.den > self.den*other.num:\n",
    "            return True\n",
    "        else:\n",
    "            return False\n",
    "        \n",
    "    def __ge__(self, other): \n",
    "        if self.num*other.den >= self.den*other.num:\n",
    "            return True\n",
    "        else:\n",
    "            return False\n",
    "        \n",
    "    def __lt__(self, other): \n",
    "        if self.num*other.den < self.den*other.num:\n",
    "            return True\n",
    "        else:\n",
    "            return False\n",
    "        \n",
    "    def __le__(self, other): \n",
    "        if self.num*other.den < self.den*other.num:\n",
    "            return True\n",
    "        else:\n",
    "            return False\n",
    "        \n",
    "    def __ne__(self, other): \n",
    "        if self.num*other.den != self.den*other.num:\n",
    "            return True\n",
    "        else:\n",
    "            return False\n",
    "    \n",
    "    # q7\n",
    "    def __radd__(self,other_int):\n",
    "        \"\"\"\n",
    "        Python will first try (4).__add__(myobj), \n",
    "        and if that returns NotImplemented Python will check if \n",
    "        the right-hand operand implements __radd__, and if it does, \n",
    "        it will call myobj.__radd__(4) rather than raising a TypeError.\n",
    "        \"\"\"\n",
    "        newnum = self.num + \\\n",
    "                 self.den*other_int\n",
    "        return Fraction(newnum,self.den)\n",
    "    \n",
    "    # q8\n",
    "    def __iadd__(self, other):\n",
    "        \"\"\"a = iadd(a, b) is equivalent to a += b.\"\"\"\n",
    "        newnum = self.num*other.den + \\\n",
    "                 self.den*other.num\n",
    "        newden = self.den * other.den\n",
    "        self.__init__(newnum, newden)\n",
    "        \n",
    "    # q9\n",
    "    def __repr__(self):\n",
    "        \"\"\"\n",
    "        In short, the goal of __repr__ is to be unambiguous and __str__ is to be readable.\n",
    "        也就是说，__repr__是用于输出更多的关于对象的信息的，而__str__是为了print好看的。\n",
    "        \"\"\"\n",
    "        return \"num:{}, den:{}\".format(self.num, self.den)"
   ]
  },
  {
   "cell_type": "code",
   "execution_count": 38,
   "metadata": {
    "collapsed": false
   },
   "outputs": [
    {
     "name": "stdout",
     "output_type": "stream",
     "text": [
      "7/6\n",
      "False\n"
     ]
    }
   ],
   "source": [
    "x = Fraction(1,2)\n",
    "y = Fraction(2,3)\n",
    "print(x+y)\n",
    "print(x == y)"
   ]
  },
  {
   "cell_type": "code",
   "execution_count": 4,
   "metadata": {
    "collapsed": false
   },
   "outputs": [
    {
     "name": "stdout",
     "output_type": "stream",
     "text": [
      "1\n",
      "2\n"
     ]
    }
   ],
   "source": [
    "# q1\n",
    "print(x.getNum())\n",
    "print(x.getDen())"
   ]
  },
  {
   "cell_type": "code",
   "execution_count": 6,
   "metadata": {
    "collapsed": false
   },
   "outputs": [
    {
     "name": "stdout",
     "output_type": "stream",
     "text": [
      "2/1\n"
     ]
    }
   ],
   "source": [
    "# q2\n",
    "z = Fraction(10, 5)\n",
    "print(z)"
   ]
  },
  {
   "cell_type": "code",
   "execution_count": 17,
   "metadata": {
    "collapsed": false
   },
   "outputs": [
    {
     "name": "stdout",
     "output_type": "stream",
     "text": [
      "3/4\n"
     ]
    }
   ],
   "source": [
    "# q3\n",
    "print(x/y)"
   ]
  },
  {
   "cell_type": "code",
   "execution_count": 21,
   "metadata": {
    "collapsed": false
   },
   "outputs": [
    {
     "name": "stdout",
     "output_type": "stream",
     "text": [
      "False\n",
      "False\n",
      "True\n",
      "True\n",
      "True\n"
     ]
    }
   ],
   "source": [
    "# q4\n",
    "print(x>y)\n",
    "print(x>=y)\n",
    "print(x<y)\n",
    "print(x<=y)\n",
    "print(x!=y)"
   ]
  },
  {
   "cell_type": "code",
   "execution_count": 22,
   "metadata": {
    "collapsed": false
   },
   "outputs": [
    {
     "ename": "Exception",
     "evalue": "top or bottom of Fraction is not int type!",
     "output_type": "error",
     "traceback": [
      "\u001b[0;31m---------------------------------------------------------------------------\u001b[0m",
      "\u001b[0;31mException\u001b[0m                                 Traceback (most recent call last)",
      "\u001b[0;32m<ipython-input-22-3c64953c5c1d>\u001b[0m in \u001b[0;36m<module>\u001b[0;34m()\u001b[0m\n\u001b[0;32m----> 1\u001b[0;31m \u001b[0mFraction\u001b[0m\u001b[0;34m(\u001b[0m\u001b[0;36m1.1\u001b[0m\u001b[0;34m,\u001b[0m \u001b[0;36m2\u001b[0m\u001b[0;34m)\u001b[0m\u001b[0;34m\u001b[0m\u001b[0m\n\u001b[0m",
      "\u001b[0;32m<ipython-input-18-e7a472fb5262>\u001b[0m in \u001b[0;36m__init__\u001b[0;34m(self, top, bottom)\u001b[0m\n\u001b[1;32m     14\u001b[0m         \u001b[0;31m# q5 检查分子分母是否都是整数\u001b[0m\u001b[0;34m\u001b[0m\u001b[0;34m\u001b[0m\u001b[0m\n\u001b[1;32m     15\u001b[0m         \u001b[0;32mif\u001b[0m \u001b[0;32mnot\u001b[0m \u001b[0misinstance\u001b[0m\u001b[0;34m(\u001b[0m\u001b[0mtop\u001b[0m\u001b[0;34m,\u001b[0m \u001b[0mint\u001b[0m\u001b[0;34m)\u001b[0m \u001b[0;32mor\u001b[0m \u001b[0;32mnot\u001b[0m \u001b[0misinstance\u001b[0m\u001b[0;34m(\u001b[0m\u001b[0mbottom\u001b[0m\u001b[0;34m,\u001b[0m \u001b[0mint\u001b[0m\u001b[0;34m)\u001b[0m\u001b[0;34m:\u001b[0m\u001b[0;34m\u001b[0m\u001b[0m\n\u001b[0;32m---> 16\u001b[0;31m             \u001b[0;32mraise\u001b[0m \u001b[0mException\u001b[0m\u001b[0;34m(\u001b[0m\u001b[0;34m\"top or bottom of Fraction is not int type!\"\u001b[0m\u001b[0;34m)\u001b[0m\u001b[0;34m\u001b[0m\u001b[0m\n\u001b[0m\u001b[1;32m     17\u001b[0m         \u001b[0;31m# q2 初始化时直接约分\u001b[0m\u001b[0;34m\u001b[0m\u001b[0;34m\u001b[0m\u001b[0m\n\u001b[1;32m     18\u001b[0m         \u001b[0mcommon\u001b[0m \u001b[0;34m=\u001b[0m \u001b[0mgcd\u001b[0m\u001b[0;34m(\u001b[0m\u001b[0mtop\u001b[0m\u001b[0;34m,\u001b[0m\u001b[0mbottom\u001b[0m\u001b[0;34m)\u001b[0m\u001b[0;34m\u001b[0m\u001b[0m\n",
      "\u001b[0;31mException\u001b[0m: top or bottom of Fraction is not int type!"
     ]
    }
   ],
   "source": [
    "# q5\n",
    "Fraction(1.1, 2)"
   ]
  },
  {
   "cell_type": "code",
   "execution_count": 29,
   "metadata": {
    "collapsed": false
   },
   "outputs": [
    {
     "name": "stdout",
     "output_type": "stream",
     "text": [
      "-1/2\n",
      "-1\n",
      "2\n",
      "False\n",
      "True\n"
     ]
    }
   ],
   "source": [
    "# q6\n",
    "w=Fraction(1, -2)\n",
    "print(w)\n",
    "print(w.getNum())\n",
    "print(w.getDen())\n",
    "print(w>x)"
   ]
  },
  {
   "cell_type": "code",
   "execution_count": 32,
   "metadata": {
    "collapsed": false
   },
   "outputs": [
    {
     "name": "stdout",
     "output_type": "stream",
     "text": [
      "3/2\n"
     ]
    }
   ],
   "source": [
    "# q7\n",
    "print(1+x)"
   ]
  },
  {
   "cell_type": "code",
   "execution_count": 34,
   "metadata": {
    "collapsed": false
   },
   "outputs": [
    {
     "name": "stdout",
     "output_type": "stream",
     "text": [
      "7/6\n"
     ]
    }
   ],
   "source": [
    "# q8\n",
    "x += y\n",
    "print(x)"
   ]
  },
  {
   "cell_type": "code",
   "execution_count": 39,
   "metadata": {
    "collapsed": false
   },
   "outputs": [
    {
     "name": "stdout",
     "output_type": "stream",
     "text": [
      "num:1, den:2\n"
     ]
    }
   ],
   "source": [
    "# q9\n",
    "\n",
    "print(repr(x))"
   ]
  },
  {
   "cell_type": "markdown",
   "metadata": {},
   "source": [
    "## 2.Analysis\n",
    "\n",
    "### 笔记\n",
    "\n",
    "这章主要讲了算法复杂度的分析。\n",
    "\n",
    "- 一. **大O**：名称源自于**Order of magnitude function $O(f(n))$** 描述了时间复杂度**$T(n)$**当中**增长速度最快**的部分。 \n",
    "\n",
    "    例如：$T(n)=5n^2+27n+1005$的阶是$O(n^2)$。\n",
    "\n",
    "    因为不同的机器计算速度的区别，和不同的编程语言的效率的不同，所以分析算法的时间复杂度使用这样的粗粒度就足够了。\n",
    "    \n",
    "    不同函数的增长速度：\n",
    "    \n",
    "![]()\n",
    "\n",
    "python自带的数据结构：\n",
    "\n",
    "- 二. **List**:\n",
    "\n",
    "|Operation\t|Big-O Efficiency|\n",
    "|-----------|----------------|\n",
    "|index []\t|O(1)|\n",
    "|index assignment\t|O(1)|\n",
    "|append\t|O(1)|\n",
    "|pop()\t|O(1)|\n",
    "|pop(i)\t|O(n)|\n",
    "|insert(i,item)\t|O(n)|\n",
    "|del operator\t|O(n)|\n",
    "|iteration\t|O(n)|\n",
    "|contains (in)\t|O(n)|\n",
    "|get slice [x:y]\t|O(k)|\n",
    "|del slice\t|O(n)|\n",
    "|set slice\t|O(n+k)|\n",
    "|reverse\t|O(n)|\n",
    "|concatenate\t|O(k)|\n",
    "|sort\t|O(n log n)|\n",
    "|multiply\t|O(nk)|\n",
    "\n",
    "其中，需要注意的是concatenate还有pop和pop(i)的区别。\n",
    "\n",
    "三. **Dictionary**:\n",
    "\n",
    "\n",
    "|operation\t|Big-O Efficiency|\n",
    "|-----------|----------------|\n",
    "|copy\t|O(n)|\n",
    "|get item\t|O(1)|\n",
    "|set item\t|O(1)|\n",
    "|delete item\t|O(1)|\n",
    "|contains (in)\t|O(1)|\n",
    "|iteration\t|O(n)|\n",
    "\n",
    "dict的in操作是O(1)，list是O(n)\n",
    "\n",
    "### 作业\n",
    "\n",
    "[作业链接](http://interactivepython.org/courselib/static/pythonds/AlgorithmAnalysis/ProgrammingExercises.html)"
   ]
  },
  {
   "cell_type": "code",
   "execution_count": null,
   "metadata": {
    "collapsed": true
   },
   "outputs": [],
   "source": []
  },
  {
   "cell_type": "markdown",
   "metadata": {},
   "source": [
    "## 3. Basic Data Structures\n",
    "\n"
   ]
  },
  {
   "cell_type": "code",
   "execution_count": null,
   "metadata": {
    "collapsed": true
   },
   "outputs": [],
   "source": []
  }
 ],
 "metadata": {
  "anaconda-cloud": {},
  "kernelspec": {
   "display_name": "Python [conda env:py35]",
   "language": "python",
   "name": "conda-env-py35-py"
  },
  "language_info": {
   "codemirror_mode": {
    "name": "ipython",
    "version": 3
   },
   "file_extension": ".py",
   "mimetype": "text/x-python",
   "name": "python",
   "nbconvert_exporter": "python",
   "pygments_lexer": "ipython3",
   "version": "3.5.2"
  }
 },
 "nbformat": 4,
 "nbformat_minor": 0
}
