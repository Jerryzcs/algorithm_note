{
 "cells": [
  {
   "cell_type": "markdown",
   "metadata": {},
   "source": [
    "# 《Problem Solving with Algorithms and Data Structures using Python》 的学习笔记和课后作业答案（七. Graphs and Graph Algorithms）\n",
    "\n",
    "```\n",
    "对应本书第七章。\n",
    "```"
   ]
  },
  {
   "cell_type": "markdown",
   "metadata": {},
   "source": [
    "## 目录\n",
    "\n",
    "* [7.Graphs and Graph Algorithms](#7.Graphs-and-Graph-Algorithms)\n",
    "    + [笔记](#笔记)\n",
    "        + [用结点和引用实现的二叉树](#用结点和引用实现的二叉树)\n",
    "        + [解析树](#解析树)\n",
    "        + [树的遍历](#树的遍历)\n",
    "        + [二叉堆](#二叉堆)\n",
    "        + [二叉查找树](#二叉查找树)\n",
    "        + [平衡二叉查找树](#平衡二叉查找树)\n",
    "    + [讨论作业](#讨论作业)"
   ]
  },
  {
   "cell_type": "markdown",
   "metadata": {
    "collapsed": true
   },
   "source": [
    "## 基本术语和定义\n",
    "\n",
    "**顶点（Vertex or Node）**：构成图的最基本的点，类比地图中一个个城市。\n",
    "\n",
    "**边（Edge or Arc）**：连接两个点，可以是有向的，也可以是无向的，类比一个城市到另一个城市的路线。\n",
    "\n",
    "**权重（Weight）**：可以理解成是边的距离，可以是一个城市到一个城市的距离，或者花费时间。\n",
    "\n",
    "![](http://interactivepython.org/courselib/static/pythonds/_images/digraph.png)\n",
    "\n",
    "上面这幅图，可以用如下方法表示：\n",
    "\n",
    "$V = \\left\\{ V0,V1,V2,V3,V4,V5 \\right\\}$\n",
    "\n",
    "$E = \\left\\{ \\begin{array}{l}(v0,v1,5), (v1,v2,4), (v2,v3,9), (v3,v4,7), (v4,v0,1), \\\\\n",
    "             (v0,v5,2),(v5,v4,8),(v3,v5,3),(v5,v2,1)\n",
    "             \\end{array} \\right\\}$\n"
   ]
  },
  {
   "cell_type": "code",
   "execution_count": null,
   "metadata": {
    "collapsed": true
   },
   "outputs": [],
   "source": []
  },
  {
   "cell_type": "code",
   "execution_count": null,
   "metadata": {
    "collapsed": true
   },
   "outputs": [],
   "source": []
  },
  {
   "cell_type": "code",
   "execution_count": null,
   "metadata": {
    "collapsed": true
   },
   "outputs": [],
   "source": []
  },
  {
   "cell_type": "code",
   "execution_count": null,
   "metadata": {
    "collapsed": true
   },
   "outputs": [],
   "source": []
  }
 ],
 "metadata": {
  "anaconda-cloud": {},
  "kernelspec": {
   "display_name": "Python [default]",
   "language": "python",
   "name": "python2"
  },
  "language_info": {
   "codemirror_mode": {
    "name": "ipython",
    "version": 2
   },
   "file_extension": ".py",
   "mimetype": "text/x-python",
   "name": "python",
   "nbconvert_exporter": "python",
   "pygments_lexer": "ipython2",
   "version": "2.7.12"
  }
 },
 "nbformat": 4,
 "nbformat_minor": 1
}
